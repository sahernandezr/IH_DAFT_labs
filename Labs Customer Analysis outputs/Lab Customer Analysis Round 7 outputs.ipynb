{
 "cells": [
  {
   "cell_type": "markdown",
   "id": "563b5b08",
   "metadata": {},
   "source": [
    "# Lab | Customer Analysis Round 7\n",
    "\n",
    "For this lab, we still keep using the `marketing_customer_analysis.csv` file that you can find in the `files_for_lab` folder.\n",
    "\n",
    "Remember the previous rounds. Follow the steps as shown in previous lectures and try to improve the accuracy of the model. Include both categorical columns in the exercise.\n",
    "Some approaches you can try in this exercise:\n",
    "\n",
    "- use the concept of multicollinearity and remove insignificant variables\n",
    "- use a different method of scaling the numerical variables\n",
    "- use a different ratio of train test split\n",
    "- use the transformation on numerical columns which align it more towards a normal distribution\n",
    "\n",
    "### Get the data\n",
    "\n",
    "We are using the `marketing_customer_analysis.csv` file."
   ]
  },
  {
   "cell_type": "code",
   "execution_count": 37,
   "id": "5a65285c",
   "metadata": {},
   "outputs": [],
   "source": [
    "import pandas as pd\n",
    "\n",
    "pd.set_option('display.max_columns', None)\n",
    "\n",
    "import warnings\n",
    "warnings.simplefilter('ignore')\n",
    "\n",
    "data=pd.read_csv('files_for_lab/csv_files/marketing_customer_analysis.csv')"
   ]
  },
  {
   "cell_type": "code",
   "execution_count": 38,
   "id": "5920953e",
   "metadata": {},
   "outputs": [
    {
     "data": {
      "text/html": [
       "<div>\n",
       "<style scoped>\n",
       "    .dataframe tbody tr th:only-of-type {\n",
       "        vertical-align: middle;\n",
       "    }\n",
       "\n",
       "    .dataframe tbody tr th {\n",
       "        vertical-align: top;\n",
       "    }\n",
       "\n",
       "    .dataframe thead th {\n",
       "        text-align: right;\n",
       "    }\n",
       "</style>\n",
       "<table border=\"1\" class=\"dataframe\">\n",
       "  <thead>\n",
       "    <tr style=\"text-align: right;\">\n",
       "      <th></th>\n",
       "      <th>Customer</th>\n",
       "      <th>State</th>\n",
       "      <th>Customer Lifetime Value</th>\n",
       "      <th>Response</th>\n",
       "      <th>Coverage</th>\n",
       "      <th>Education</th>\n",
       "      <th>Effective To Date</th>\n",
       "      <th>EmploymentStatus</th>\n",
       "      <th>Gender</th>\n",
       "      <th>Income</th>\n",
       "      <th>Location Code</th>\n",
       "      <th>Marital Status</th>\n",
       "      <th>Monthly Premium Auto</th>\n",
       "      <th>Months Since Last Claim</th>\n",
       "      <th>Months Since Policy Inception</th>\n",
       "      <th>Number of Open Complaints</th>\n",
       "      <th>Number of Policies</th>\n",
       "      <th>Policy Type</th>\n",
       "      <th>Policy</th>\n",
       "      <th>Renew Offer Type</th>\n",
       "      <th>Sales Channel</th>\n",
       "      <th>Total Claim Amount</th>\n",
       "      <th>Vehicle Class</th>\n",
       "      <th>Vehicle Size</th>\n",
       "    </tr>\n",
       "  </thead>\n",
       "  <tbody>\n",
       "    <tr>\n",
       "      <th>0</th>\n",
       "      <td>BU79786</td>\n",
       "      <td>Washington</td>\n",
       "      <td>2763.519279</td>\n",
       "      <td>No</td>\n",
       "      <td>Basic</td>\n",
       "      <td>Bachelor</td>\n",
       "      <td>2/24/11</td>\n",
       "      <td>Employed</td>\n",
       "      <td>F</td>\n",
       "      <td>56274</td>\n",
       "      <td>Suburban</td>\n",
       "      <td>Married</td>\n",
       "      <td>69</td>\n",
       "      <td>32</td>\n",
       "      <td>5</td>\n",
       "      <td>0</td>\n",
       "      <td>1</td>\n",
       "      <td>Corporate Auto</td>\n",
       "      <td>Corporate L3</td>\n",
       "      <td>Offer1</td>\n",
       "      <td>Agent</td>\n",
       "      <td>384.811147</td>\n",
       "      <td>Two-Door Car</td>\n",
       "      <td>Medsize</td>\n",
       "    </tr>\n",
       "    <tr>\n",
       "      <th>1</th>\n",
       "      <td>QZ44356</td>\n",
       "      <td>Arizona</td>\n",
       "      <td>6979.535903</td>\n",
       "      <td>No</td>\n",
       "      <td>Extended</td>\n",
       "      <td>Bachelor</td>\n",
       "      <td>1/31/11</td>\n",
       "      <td>Unemployed</td>\n",
       "      <td>F</td>\n",
       "      <td>0</td>\n",
       "      <td>Suburban</td>\n",
       "      <td>Single</td>\n",
       "      <td>94</td>\n",
       "      <td>13</td>\n",
       "      <td>42</td>\n",
       "      <td>0</td>\n",
       "      <td>8</td>\n",
       "      <td>Personal Auto</td>\n",
       "      <td>Personal L3</td>\n",
       "      <td>Offer3</td>\n",
       "      <td>Agent</td>\n",
       "      <td>1131.464935</td>\n",
       "      <td>Four-Door Car</td>\n",
       "      <td>Medsize</td>\n",
       "    </tr>\n",
       "    <tr>\n",
       "      <th>2</th>\n",
       "      <td>AI49188</td>\n",
       "      <td>Nevada</td>\n",
       "      <td>12887.431650</td>\n",
       "      <td>No</td>\n",
       "      <td>Premium</td>\n",
       "      <td>Bachelor</td>\n",
       "      <td>2/19/11</td>\n",
       "      <td>Employed</td>\n",
       "      <td>F</td>\n",
       "      <td>48767</td>\n",
       "      <td>Suburban</td>\n",
       "      <td>Married</td>\n",
       "      <td>108</td>\n",
       "      <td>18</td>\n",
       "      <td>38</td>\n",
       "      <td>0</td>\n",
       "      <td>2</td>\n",
       "      <td>Personal Auto</td>\n",
       "      <td>Personal L3</td>\n",
       "      <td>Offer1</td>\n",
       "      <td>Agent</td>\n",
       "      <td>566.472247</td>\n",
       "      <td>Two-Door Car</td>\n",
       "      <td>Medsize</td>\n",
       "    </tr>\n",
       "    <tr>\n",
       "      <th>3</th>\n",
       "      <td>WW63253</td>\n",
       "      <td>California</td>\n",
       "      <td>7645.861827</td>\n",
       "      <td>No</td>\n",
       "      <td>Basic</td>\n",
       "      <td>Bachelor</td>\n",
       "      <td>1/20/11</td>\n",
       "      <td>Unemployed</td>\n",
       "      <td>M</td>\n",
       "      <td>0</td>\n",
       "      <td>Suburban</td>\n",
       "      <td>Married</td>\n",
       "      <td>106</td>\n",
       "      <td>18</td>\n",
       "      <td>65</td>\n",
       "      <td>0</td>\n",
       "      <td>7</td>\n",
       "      <td>Corporate Auto</td>\n",
       "      <td>Corporate L2</td>\n",
       "      <td>Offer1</td>\n",
       "      <td>Call Center</td>\n",
       "      <td>529.881344</td>\n",
       "      <td>SUV</td>\n",
       "      <td>Medsize</td>\n",
       "    </tr>\n",
       "    <tr>\n",
       "      <th>4</th>\n",
       "      <td>HB64268</td>\n",
       "      <td>Washington</td>\n",
       "      <td>2813.692575</td>\n",
       "      <td>No</td>\n",
       "      <td>Basic</td>\n",
       "      <td>Bachelor</td>\n",
       "      <td>2/3/11</td>\n",
       "      <td>Employed</td>\n",
       "      <td>M</td>\n",
       "      <td>43836</td>\n",
       "      <td>Rural</td>\n",
       "      <td>Single</td>\n",
       "      <td>73</td>\n",
       "      <td>12</td>\n",
       "      <td>44</td>\n",
       "      <td>0</td>\n",
       "      <td>1</td>\n",
       "      <td>Personal Auto</td>\n",
       "      <td>Personal L1</td>\n",
       "      <td>Offer1</td>\n",
       "      <td>Agent</td>\n",
       "      <td>138.130879</td>\n",
       "      <td>Four-Door Car</td>\n",
       "      <td>Medsize</td>\n",
       "    </tr>\n",
       "  </tbody>\n",
       "</table>\n",
       "</div>"
      ],
      "text/plain": [
       "  Customer       State  Customer Lifetime Value Response  Coverage Education  \\\n",
       "0  BU79786  Washington              2763.519279       No     Basic  Bachelor   \n",
       "1  QZ44356     Arizona              6979.535903       No  Extended  Bachelor   \n",
       "2  AI49188      Nevada             12887.431650       No   Premium  Bachelor   \n",
       "3  WW63253  California              7645.861827       No     Basic  Bachelor   \n",
       "4  HB64268  Washington              2813.692575       No     Basic  Bachelor   \n",
       "\n",
       "  Effective To Date EmploymentStatus Gender  Income Location Code  \\\n",
       "0           2/24/11         Employed      F   56274      Suburban   \n",
       "1           1/31/11       Unemployed      F       0      Suburban   \n",
       "2           2/19/11         Employed      F   48767      Suburban   \n",
       "3           1/20/11       Unemployed      M       0      Suburban   \n",
       "4            2/3/11         Employed      M   43836         Rural   \n",
       "\n",
       "  Marital Status  Monthly Premium Auto  Months Since Last Claim  \\\n",
       "0        Married                    69                       32   \n",
       "1         Single                    94                       13   \n",
       "2        Married                   108                       18   \n",
       "3        Married                   106                       18   \n",
       "4         Single                    73                       12   \n",
       "\n",
       "   Months Since Policy Inception  Number of Open Complaints  \\\n",
       "0                              5                          0   \n",
       "1                             42                          0   \n",
       "2                             38                          0   \n",
       "3                             65                          0   \n",
       "4                             44                          0   \n",
       "\n",
       "   Number of Policies     Policy Type        Policy Renew Offer Type  \\\n",
       "0                   1  Corporate Auto  Corporate L3           Offer1   \n",
       "1                   8   Personal Auto   Personal L3           Offer3   \n",
       "2                   2   Personal Auto   Personal L3           Offer1   \n",
       "3                   7  Corporate Auto  Corporate L2           Offer1   \n",
       "4                   1   Personal Auto   Personal L1           Offer1   \n",
       "\n",
       "  Sales Channel  Total Claim Amount  Vehicle Class Vehicle Size  \n",
       "0         Agent          384.811147   Two-Door Car      Medsize  \n",
       "1         Agent         1131.464935  Four-Door Car      Medsize  \n",
       "2         Agent          566.472247   Two-Door Car      Medsize  \n",
       "3   Call Center          529.881344            SUV      Medsize  \n",
       "4         Agent          138.130879  Four-Door Car      Medsize  "
      ]
     },
     "execution_count": 38,
     "metadata": {},
     "output_type": "execute_result"
    }
   ],
   "source": [
    "data.head()"
   ]
  },
  {
   "cell_type": "markdown",
   "id": "2977f43d",
   "metadata": {},
   "source": [
    "### Dealing with the data\n",
    "\n",
    "Already done in rounds 2 to 7."
   ]
  },
  {
   "cell_type": "code",
   "execution_count": 40,
   "id": "634a6c79",
   "metadata": {},
   "outputs": [],
   "source": [
    "# clean\n",
    "data.columns=[e.lower().replace(' ', '_') for e in data.columns]\n",
    "data=data.dropna()\n",
    "data['effective_to_date']=pd.to_datetime(data['effective_to_date'], errors='coerce')\n",
    "\n",
    "# select data\n",
    "X=data.drop(columns=['customer', 'effective_to_date', 'total_claim_amount'], axis=1)\n",
    "y=data.total_claim_amount\n",
    "\n",
    "# num-cat split\n",
    "X_num=X._get_numeric_data()\n",
    "X_cat=X.drop(columns=X_num.columns)\n",
    "\n",
    "# numeric normalization\n",
    "from sklearn.preprocessing import StandardScaler\n",
    "\n",
    "for c in X_num.columns:\n",
    "    X_num[c]=StandardScaler().fit_transform(X_num[[c]])\n",
    "\n",
    "X_num.head()\n",
    "\n",
    "# cat, one hot encoding\n",
    "X_cat=pd.get_dummies(X_cat, drop_first=True)\n",
    "\n",
    "# concat numerical and categorical transformations\n",
    "X=pd.concat([X_num, X_cat], axis=1)"
   ]
  },
  {
   "cell_type": "markdown",
   "id": "3c7f30b9",
   "metadata": {},
   "source": [
    "**Bonus**: Build a function, from round 2 and round 7, to clean and process the data."
   ]
  },
  {
   "cell_type": "code",
   "execution_count": 41,
   "id": "d971a7e6",
   "metadata": {},
   "outputs": [],
   "source": [
    "def normalize(X):         # normalization function\n",
    "    X_mean=X.mean(axis=0)\n",
    "    X_std=X.std(axis=0)\n",
    "    X_std[X_std==0]=1.0\n",
    "    X=(X-X_mean)/X_std\n",
    "    return X\n",
    "\n",
    "def process_clean_data(df):\n",
    "    # clean\n",
    "    df.columns=[e.lower().replace(' ', '_') for e in df.columns]\n",
    "    #df=df.drop(columns=['unnamed:_0', 'vehicle_type'])\n",
    "    df=df.dropna()\n",
    "    df['effective_to_date']=pd.to_datetime(df['effective_to_date'], errors='coerce')\n",
    "\n",
    "    # select data\n",
    "    X=df.drop(columns=['customer', 'effective_to_date', 'total_claim_amount'], axis=1)\n",
    "    y=df.total_claim_amount\n",
    "\n",
    "    # num-cat split\n",
    "    X_num=X._get_numeric_data()\n",
    "    X_cat=X.drop(columns=X_num.columns)\n",
    "\n",
    "    # numeric normalization\n",
    "    X_num=normalize(X_num)\n",
    "\n",
    "    # cat, one hot encoding\n",
    "    X_cat=pd.get_dummies(X_cat, drop_first=True)\n",
    "\n",
    "    # concat numerical and categorical transformations\n",
    "    X=pd.concat([X_num, X_cat], axis=1)\n",
    "\n",
    "    # return X,y\n",
    "    return X, y"
   ]
  },
  {
   "cell_type": "markdown",
   "id": "e8758b59",
   "metadata": {},
   "source": [
    "### Explore the data\n",
    "\n",
    "Done in the round 3."
   ]
  },
  {
   "cell_type": "markdown",
   "id": "61dd9ed5",
   "metadata": {},
   "source": [
    "### Modeling\n",
    "\n",
    "Description:\n",
    "\n",
    "- Create a linear regression model\n",
    "- Try to improve the linear regression model"
   ]
  },
  {
   "cell_type": "code",
   "execution_count": 42,
   "id": "0f7c72a8",
   "metadata": {},
   "outputs": [],
   "source": [
    "# train-test-split\n",
    "from sklearn.model_selection import train_test_split as tts\n",
    "\n",
    "X_train, X_test, y_train, y_test=tts(X, y, test_size=.2)"
   ]
  },
  {
   "cell_type": "code",
   "execution_count": 43,
   "id": "95cc3dad",
   "metadata": {},
   "outputs": [
    {
     "name": "stdout",
     "output_type": "stream",
     "text": [
      "                            OLS Regression Results                            \n",
      "==============================================================================\n",
      "Dep. Variable:     total_claim_amount   R-squared:                       0.773\n",
      "Model:                            OLS   Adj. R-squared:                  0.772\n",
      "Method:                 Least Squares   F-statistic:                     516.1\n",
      "Date:                Tue, 24 Jan 2023   Prob (F-statistic):               0.00\n",
      "Time:                        15:20:41   Log-Likelihood:                -46467.\n",
      "No. Observations:                7307   AIC:                         9.303e+04\n",
      "Df Residuals:                    7258   BIC:                         9.337e+04\n",
      "Df Model:                          48                                         \n",
      "Covariance Type:            nonrobust                                         \n",
      "==================================================================================================\n",
      "                                     coef    std err          t      P>|t|      [0.025      0.975]\n",
      "--------------------------------------------------------------------------------------------------\n",
      "const                            127.5111     15.873      8.033      0.000      96.396     158.627\n",
      "customer_lifetime_value           -1.9104      1.795     -1.064      0.287      -5.430       1.609\n",
      "income                            -8.4173      2.916     -2.887      0.004     -14.133      -2.702\n",
      "monthly_premium_auto             178.3884      8.499     20.990      0.000     161.728     195.049\n",
      "months_since_last_claim            3.0813      1.658      1.858      0.063      -0.169       6.332\n",
      "months_since_policy_inception     -1.1861      1.655     -0.717      0.474      -4.430       2.058\n",
      "number_of_open_complaints         -2.1884      1.646     -1.329      0.184      -5.416       1.039\n",
      "number_of_policies                 1.7962      1.659      1.083      0.279      -1.455       5.048\n",
      "state_California                   4.0448      4.759      0.850      0.395      -5.285      13.374\n",
      "state_Nevada                       6.0389      6.563      0.920      0.358      -6.826      18.904\n",
      "state_Oregon                      -2.4868      4.923     -0.505      0.613     -12.136       7.163\n",
      "state_Washington                   4.9088      6.665      0.736      0.461      -8.157      17.974\n",
      "response_Yes                     -26.2534      5.153     -5.094      0.000     -36.356     -16.151\n",
      "coverage_Extended                -16.4579      6.284     -2.619      0.009     -28.775      -4.140\n",
      "coverage_Premium                  -2.7666     13.326     -0.208      0.836     -28.889      23.356\n",
      "education_College                 -5.6678      4.272     -1.327      0.185     -14.043       2.707\n",
      "education_Doctor                 -12.1973      9.158     -1.332      0.183     -30.149       5.755\n",
      "education_High School or Below    12.1625      4.333      2.807      0.005       3.669      20.656\n",
      "education_Master                  -9.2054      6.568     -1.402      0.161     -22.081       3.670\n",
      "employmentstatus_Employed         -5.6270      8.892     -0.633      0.527     -23.058      11.804\n",
      "employmentstatus_Medical Leave    13.3968     10.931      1.226      0.220      -8.031      34.825\n",
      "employmentstatus_Retired          -1.8934     12.637     -0.150      0.881     -26.666      22.879\n",
      "employmentstatus_Unemployed       64.5553      8.943      7.219      0.000      47.025      82.086\n",
      "gender_M                          11.5949      3.320      3.492      0.000       5.087      18.103\n",
      "location_code_Suburban           379.1765      4.831     78.490      0.000     369.707     388.646\n",
      "location_code_Urban              218.4873      5.444     40.131      0.000     207.815     229.160\n",
      "marital_status_Married            -7.6964      4.833     -1.592      0.111     -17.171       1.778\n",
      "marital_status_Single             63.7187      5.567     11.446      0.000      52.806      74.631\n",
      "policy_type_Personal Auto          0.0023      6.382      0.000      1.000     -12.509      12.513\n",
      "policy_type_Special Auto          16.6771      8.991      1.855      0.064      -0.947      34.302\n",
      "policy_Corporate L2              -10.8304     10.534     -1.028      0.304     -31.480       9.820\n",
      "policy_Corporate L3               -4.6119      9.597     -0.481      0.631     -23.426      14.202\n",
      "policy_Personal L1                 6.9228      4.128      1.677      0.094      -1.169      15.015\n",
      "policy_Personal L2                -3.4831      3.545     -0.983      0.326     -10.431       3.465\n",
      "policy_Personal L3                -3.4374      3.207     -1.072      0.284      -9.723       2.848\n",
      "policy_Special L1                 46.7988     15.183      3.082      0.002      17.036      76.561\n",
      "policy_Special L2                 -7.5521     11.170     -0.676      0.499     -29.448      14.344\n",
      "policy_Special L3                -22.5696     11.164     -2.022      0.043     -44.455      -0.684\n",
      "renew_offer_type_Offer2           18.8073      4.141      4.541      0.000      10.689      26.926\n",
      "renew_offer_type_Offer3           10.9491      4.975      2.201      0.028       1.196      20.702\n",
      "renew_offer_type_Offer4           11.0909      5.853      1.895      0.058      -0.383      22.565\n",
      "sales_channel_Branch               3.6596      4.135      0.885      0.376      -4.446      11.765\n",
      "sales_channel_Call Center         -1.6436      4.640     -0.354      0.723     -10.738       7.451\n",
      "sales_channel_Web                  4.1578      5.144      0.808      0.419      -5.926      14.241\n",
      "vehicle_class_Luxury Car          44.3778     34.888      1.272      0.203     -24.012     112.768\n",
      "vehicle_class_Luxury SUV          11.8921     34.843      0.341      0.733     -56.409      80.194\n",
      "vehicle_class_SUV                -18.0702     11.531     -1.567      0.117     -40.675       4.534\n",
      "vehicle_class_Sports Car         -28.8032     13.255     -2.173      0.030     -54.787      -2.819\n",
      "vehicle_class_Two-Door Car         2.6747      4.301      0.622      0.534      -5.756      11.105\n",
      "vehicle_size_Medsize              -0.7081      5.532     -0.128      0.898     -11.552      10.136\n",
      "vehicle_size_Small                 4.9682      6.401      0.776      0.438      -7.580      17.516\n",
      "==============================================================================\n",
      "Omnibus:                     3338.668   Durbin-Watson:                   2.018\n",
      "Prob(Omnibus):                  0.000   Jarque-Bera (JB):            47839.936\n",
      "Skew:                           1.812   Prob(JB):                         0.00\n",
      "Kurtosis:                      15.000   Cond. No.                     1.14e+16\n",
      "==============================================================================\n",
      "\n",
      "Notes:\n",
      "[1] Standard Errors assume that the covariance matrix of the errors is correctly specified.\n",
      "[2] The smallest eigenvalue is 2.72e-28. This might indicate that there are\n",
      "strong multicollinearity problems or that the design matrix is singular.\n"
     ]
    }
   ],
   "source": [
    "# statsmodels version\n",
    "\n",
    "\n",
    "print(model.summary())"
   ]
  },
  {
   "cell_type": "code",
   "execution_count": 44,
   "id": "8daf183e",
   "metadata": {},
   "outputs": [
    {
     "data": {
      "text/html": [
       "<style>#sk-container-id-4 {color: black;background-color: white;}#sk-container-id-4 pre{padding: 0;}#sk-container-id-4 div.sk-toggleable {background-color: white;}#sk-container-id-4 label.sk-toggleable__label {cursor: pointer;display: block;width: 100%;margin-bottom: 0;padding: 0.3em;box-sizing: border-box;text-align: center;}#sk-container-id-4 label.sk-toggleable__label-arrow:before {content: \"▸\";float: left;margin-right: 0.25em;color: #696969;}#sk-container-id-4 label.sk-toggleable__label-arrow:hover:before {color: black;}#sk-container-id-4 div.sk-estimator:hover label.sk-toggleable__label-arrow:before {color: black;}#sk-container-id-4 div.sk-toggleable__content {max-height: 0;max-width: 0;overflow: hidden;text-align: left;background-color: #f0f8ff;}#sk-container-id-4 div.sk-toggleable__content pre {margin: 0.2em;color: black;border-radius: 0.25em;background-color: #f0f8ff;}#sk-container-id-4 input.sk-toggleable__control:checked~div.sk-toggleable__content {max-height: 200px;max-width: 100%;overflow: auto;}#sk-container-id-4 input.sk-toggleable__control:checked~label.sk-toggleable__label-arrow:before {content: \"▾\";}#sk-container-id-4 div.sk-estimator input.sk-toggleable__control:checked~label.sk-toggleable__label {background-color: #d4ebff;}#sk-container-id-4 div.sk-label input.sk-toggleable__control:checked~label.sk-toggleable__label {background-color: #d4ebff;}#sk-container-id-4 input.sk-hidden--visually {border: 0;clip: rect(1px 1px 1px 1px);clip: rect(1px, 1px, 1px, 1px);height: 1px;margin: -1px;overflow: hidden;padding: 0;position: absolute;width: 1px;}#sk-container-id-4 div.sk-estimator {font-family: monospace;background-color: #f0f8ff;border: 1px dotted black;border-radius: 0.25em;box-sizing: border-box;margin-bottom: 0.5em;}#sk-container-id-4 div.sk-estimator:hover {background-color: #d4ebff;}#sk-container-id-4 div.sk-parallel-item::after {content: \"\";width: 100%;border-bottom: 1px solid gray;flex-grow: 1;}#sk-container-id-4 div.sk-label:hover label.sk-toggleable__label {background-color: #d4ebff;}#sk-container-id-4 div.sk-serial::before {content: \"\";position: absolute;border-left: 1px solid gray;box-sizing: border-box;top: 0;bottom: 0;left: 50%;z-index: 0;}#sk-container-id-4 div.sk-serial {display: flex;flex-direction: column;align-items: center;background-color: white;padding-right: 0.2em;padding-left: 0.2em;position: relative;}#sk-container-id-4 div.sk-item {position: relative;z-index: 1;}#sk-container-id-4 div.sk-parallel {display: flex;align-items: stretch;justify-content: center;background-color: white;position: relative;}#sk-container-id-4 div.sk-item::before, #sk-container-id-4 div.sk-parallel-item::before {content: \"\";position: absolute;border-left: 1px solid gray;box-sizing: border-box;top: 0;bottom: 0;left: 50%;z-index: -1;}#sk-container-id-4 div.sk-parallel-item {display: flex;flex-direction: column;z-index: 1;position: relative;background-color: white;}#sk-container-id-4 div.sk-parallel-item:first-child::after {align-self: flex-end;width: 50%;}#sk-container-id-4 div.sk-parallel-item:last-child::after {align-self: flex-start;width: 50%;}#sk-container-id-4 div.sk-parallel-item:only-child::after {width: 0;}#sk-container-id-4 div.sk-dashed-wrapped {border: 1px dashed gray;margin: 0 0.4em 0.5em 0.4em;box-sizing: border-box;padding-bottom: 0.4em;background-color: white;}#sk-container-id-4 div.sk-label label {font-family: monospace;font-weight: bold;display: inline-block;line-height: 1.2em;}#sk-container-id-4 div.sk-label-container {text-align: center;}#sk-container-id-4 div.sk-container {/* jupyter's `normalize.less` sets `[hidden] { display: none; }` but bootstrap.min.css set `[hidden] { display: none !important; }` so we also need the `!important` here to be able to override the default hidden behavior on the sphinx rendered scikit-learn.org. See: https://github.com/scikit-learn/scikit-learn/issues/21755 */display: inline-block !important;position: relative;}#sk-container-id-4 div.sk-text-repr-fallback {display: none;}</style><div id=\"sk-container-id-4\" class=\"sk-top-container\"><div class=\"sk-text-repr-fallback\"><pre>LinearRegression()</pre><b>In a Jupyter environment, please rerun this cell to show the HTML representation or trust the notebook. <br />On GitHub, the HTML representation is unable to render, please try loading this page with nbviewer.org.</b></div><div class=\"sk-container\" hidden><div class=\"sk-item\"><div class=\"sk-estimator sk-toggleable\"><input class=\"sk-toggleable__control sk-hidden--visually\" id=\"sk-estimator-id-4\" type=\"checkbox\" checked><label for=\"sk-estimator-id-4\" class=\"sk-toggleable__label sk-toggleable__label-arrow\">LinearRegression</label><div class=\"sk-toggleable__content\"><pre>LinearRegression()</pre></div></div></div></div></div>"
      ],
      "text/plain": [
       "LinearRegression()"
      ]
     },
     "execution_count": 44,
     "metadata": {},
     "output_type": "execute_result"
    }
   ],
   "source": [
    "# sklearn version\n"
   ]
  },
  {
   "cell_type": "code",
   "execution_count": 45,
   "id": "f15bcd65",
   "metadata": {},
   "outputs": [
    {
     "data": {
      "text/plain": [
       "0.773411897854125"
      ]
     },
     "execution_count": 45,
     "metadata": {},
     "output_type": "execute_result"
    }
   ],
   "source": [
    "linreg.score(X_train, y_train)"
   ]
  },
  {
   "cell_type": "code",
   "execution_count": 46,
   "id": "d0acfc0a",
   "metadata": {},
   "outputs": [
    {
     "data": {
      "text/plain": [
       "0.7658679140225813"
      ]
     },
     "execution_count": 46,
     "metadata": {},
     "output_type": "execute_result"
    }
   ],
   "source": [
    "linreg.score(X_test, y_test)"
   ]
  },
  {
   "cell_type": "code",
   "execution_count": 47,
   "id": "bce2a785",
   "metadata": {},
   "outputs": [
    {
     "name": "stdout",
     "output_type": "stream",
     "text": [
      "train RMSE: 139.81492478888 -- test RMSE: 134.09410643530302\n"
     ]
    }
   ],
   "source": [
    "from sklearn.metrics import mean_squared_error as mse\n",
    "\n",
    "\n",
    "\n",
    "print ('train RMSE: {} -- test RMSE: {}'.format(train_mse**.5, test_mse**.5))"
   ]
  },
  {
   "cell_type": "code",
   "execution_count": 48,
   "id": "a8e035d1",
   "metadata": {},
   "outputs": [
    {
     "name": "stdout",
     "output_type": "stream",
     "text": [
      "train RMSE: 138.74791351688256 -- test RMSE: 138.14925081002957\n"
     ]
    }
   ],
   "source": [
    "# drop some columns to test if model improves\n",
    "X=X.drop(columns=['customer_lifetime_value','coverage_Premium',\n",
    "                 'policy_Corporate L3', 'policy_Special L2',\n",
    "                  'sales_channel_Branch', 'vehicle_class_Two-Door Car', 'vehicle_size_Small'\n",
    "                 ])\n",
    "\n",
    "X_train, X_test, y_train, y_test=tts(X, y, test_size=.2)\n",
    "\n",
    "linreg=LinReg().fit(X_train, y_train)\n",
    "\n",
    "train_mse=mse(linreg.predict(X_train), y_train)\n",
    "test_mse=mse(linreg.predict(X_test), y_test)\n",
    "\n",
    "print ('train RMSE: {} -- test RMSE: {}'.format(train_mse**.5, test_mse**.5))"
   ]
  }
 ],
 "metadata": {
  "kernelspec": {
   "display_name": "example",
   "language": "python",
   "name": "example"
  },
  "language_info": {
   "codemirror_mode": {
    "name": "ipython",
    "version": 3
   },
   "file_extension": ".py",
   "mimetype": "text/x-python",
   "name": "python",
   "nbconvert_exporter": "python",
   "pygments_lexer": "ipython3",
   "version": "3.9.15"
  }
 },
 "nbformat": 4,
 "nbformat_minor": 5
}

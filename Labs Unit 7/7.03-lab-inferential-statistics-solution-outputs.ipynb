{
 "cells": [
  {
   "cell_type": "code",
   "execution_count": 7,
   "id": "3ede68e3",
   "metadata": {},
   "outputs": [],
   "source": [
    "from statistics import math\n",
    "import scipy.stats"
   ]
  },
  {
   "cell_type": "markdown",
   "id": "77a27b50",
   "metadata": {},
   "source": [
    "# Lab | Inferential statistics\n",
    "\n",
    "\n",
    "### Instructions\n",
    "\n",
    "1. It is assumed that the mean systolic blood pressure is `μ = 120 mm Hg`. In the Honolulu Heart Study, a sample of `n = 100` people had an average systolic blood pressure of 130.1 mm Hg with a standard deviation of 21.21 mm Hg. Is the group significantly different (with respect to systolic blood pressure!) from the regular population?\n",
    "\n",
    "   - Set up the hypothesis test.\n",
    "   - Write down all the steps followed for setting up the test.\n",
    "   - Calculate the test statistic by hand and also code it in Python. It should be 4.76190. We will take a look at how to make decisions based on this calculated value."
   ]
  },
  {
   "cell_type": "markdown",
   "id": "7043a038",
   "metadata": {},
   "source": [
    "Steps\n",
    "1. State the null and alternative hypotheses.\n",
    "2. Determine the level of significance.\n",
    "3. Calculate the test statistic.\n",
    "4. Determine the p-value.\n",
    "5. Make a decision based on the p-value."
   ]
  },
  {
   "cell_type": "markdown",
   "id": "d9ae417e",
   "metadata": {},
   "source": [
    "\\$H_{0} =\\$ the populations' mean is the same as the sample's mean\n",
    "\n",
    "\\$H_{1} =\\$ the populations' mean is different than the sample's mean\n",
    "\n",
    "Significance level = 0.05"
   ]
  },
  {
   "cell_type": "code",
   "execution_count": 8,
   "id": "07371c8a",
   "metadata": {},
   "outputs": [
    {
     "name": "stdout",
     "output_type": "stream",
     "text": [
      "El p-value es: 3.2813509086043083e-06\n"
     ]
    }
   ],
   "source": [
    "print('P-value:', scipy.stats.t.sf((4.761904761904759), df=99))"
   ]
  },
  {
   "cell_type": "markdown",
   "id": "d747c126",
   "metadata": {},
   "source": [
    "Since the p-value is lower than 0.05, we reject the null hypothesis, so we can say with 95% confidence that the means are not the same"
   ]
  },
  {
   "cell_type": "markdown",
   "id": "366b3afb",
   "metadata": {},
   "source": [
    "2. If you finished the previous question, please go through the code for `principal_component_analysis_example` provided in the `files_for_lab` folder ."
   ]
  }
 ],
 "metadata": {
  "kernelspec": {
   "display_name": "example",
   "language": "python",
   "name": "example"
  },
  "language_info": {
   "codemirror_mode": {
    "name": "ipython",
    "version": 3
   },
   "file_extension": ".py",
   "mimetype": "text/x-python",
   "name": "python",
   "nbconvert_exporter": "python",
   "pygments_lexer": "ipython3",
   "version": "3.9.13"
  }
 },
 "nbformat": 4,
 "nbformat_minor": 5
}

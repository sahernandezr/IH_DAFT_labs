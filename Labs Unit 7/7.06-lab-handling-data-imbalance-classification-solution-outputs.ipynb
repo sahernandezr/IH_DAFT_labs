{
 "cells": [
  {
   "cell_type": "markdown",
   "id": "d7643b06",
   "metadata": {},
   "source": [
    "# Lab | Handling Data Imbalance in Classification Models\n",
    "\n",
    "For this lab and in the next lessons we will build a model on customer churn binary classification problem. You will be using `files_for_lab/Customer-Churn.csv` file.\n",
    "\n",
    "### Scenario\n",
    "\n",
    "You are working as an analyst with this internet service provider. You are provided with this historical data about your company's customers and their churn trends. Your task is to build a machine learning model that will help the company identify customers that are more likely to default/churn and thus prevent losses from such customers.\n",
    "\n",
    "### Instructions\n",
    "\n",
    "In this lab, we will first take a look at the degree of imbalance in the data and correct it using the techniques we learned on the class.\n",
    "\n",
    "Here is the list of steps to be followed (building a simple model without balancing the data):\n",
    "\n",
    "- Import the required libraries and modules that you would need."
   ]
  },
  {
   "cell_type": "code",
   "execution_count": 48,
   "id": "b469a2f0",
   "metadata": {},
   "outputs": [],
   "source": [
    "import pandas as pd\n",
    "import numpy as np\n",
    "pd.set_option('display.max_columns', None)\n",
    "import statsmodels.api as sm\n",
    "from sklearn.preprocessing import OneHotEncoder, StandardScaler, Normalizer\n",
    "from sklearn.model_selection import train_test_split\n",
    "from sklearn.linear_model import LogisticRegression\n",
    "import matplotlib.pyplot as plt\n",
    "import seaborn as sns\n",
    "from sklearn import metrics"
   ]
  },
  {
   "cell_type": "markdown",
   "id": "5e9be6d3",
   "metadata": {},
   "source": [
    "- Read that data into Python and call the dataframe `churnData`."
   ]
  },
  {
   "cell_type": "code",
   "execution_count": 49,
   "id": "b1596563",
   "metadata": {},
   "outputs": [],
   "source": [
    "churnData = pd.read_csv('files_for_lab/Customer-Churn.csv')"
   ]
  },
  {
   "cell_type": "code",
   "execution_count": 50,
   "id": "5629fb16",
   "metadata": {},
   "outputs": [
    {
     "data": {
      "text/plain": [
       "(7043, 16)"
      ]
     },
     "execution_count": 50,
     "metadata": {},
     "output_type": "execute_result"
    }
   ],
   "source": [
    "churnData.shape"
   ]
  },
  {
   "cell_type": "markdown",
   "id": "c4b5a8b0",
   "metadata": {},
   "source": [
    "- Check the datatypes of all the columns in the data. You would see that the column `TotalCharges` is object type. Convert this column into numeric type using `pd.to_numeric` function."
   ]
  },
  {
   "cell_type": "code",
   "execution_count": 51,
   "id": "737b4b2d",
   "metadata": {},
   "outputs": [
    {
     "data": {
      "text/plain": [
       "gender               object\n",
       "SeniorCitizen         int64\n",
       "Partner              object\n",
       "Dependents           object\n",
       "tenure                int64\n",
       "PhoneService         object\n",
       "OnlineSecurity       object\n",
       "OnlineBackup         object\n",
       "DeviceProtection     object\n",
       "TechSupport          object\n",
       "StreamingTV          object\n",
       "StreamingMovies      object\n",
       "Contract             object\n",
       "MonthlyCharges      float64\n",
       "TotalCharges         object\n",
       "Churn                object\n",
       "dtype: object"
      ]
     },
     "execution_count": 51,
     "metadata": {},
     "output_type": "execute_result"
    }
   ],
   "source": [
    "churnData.dtypes"
   ]
  },
  {
   "cell_type": "code",
   "execution_count": 52,
   "id": "9e489249",
   "metadata": {},
   "outputs": [
    {
     "data": {
      "text/plain": [
       "gender               object\n",
       "SeniorCitizen         int64\n",
       "Partner              object\n",
       "Dependents           object\n",
       "tenure                int64\n",
       "PhoneService         object\n",
       "OnlineSecurity       object\n",
       "OnlineBackup         object\n",
       "DeviceProtection     object\n",
       "TechSupport          object\n",
       "StreamingTV          object\n",
       "StreamingMovies      object\n",
       "Contract             object\n",
       "MonthlyCharges      float64\n",
       "TotalCharges        float64\n",
       "Churn                object\n",
       "dtype: object"
      ]
     },
     "execution_count": 52,
     "metadata": {},
     "output_type": "execute_result"
    }
   ],
   "source": [
    "\n",
    "churnData.dtypes"
   ]
  },
  {
   "cell_type": "markdown",
   "id": "3834d1b7",
   "metadata": {},
   "source": [
    "- Check for null values in the dataframe. Replace the null values."
   ]
  },
  {
   "cell_type": "code",
   "execution_count": 53,
   "id": "a3f344df",
   "metadata": {},
   "outputs": [
    {
     "data": {
      "text/plain": [
       "TotalCharges        11\n",
       "gender               0\n",
       "SeniorCitizen        0\n",
       "Partner              0\n",
       "Dependents           0\n",
       "tenure               0\n",
       "PhoneService         0\n",
       "OnlineSecurity       0\n",
       "OnlineBackup         0\n",
       "DeviceProtection     0\n",
       "TechSupport          0\n",
       "StreamingTV          0\n",
       "StreamingMovies      0\n",
       "Contract             0\n",
       "MonthlyCharges       0\n",
       "Churn                0\n",
       "dtype: int64"
      ]
     },
     "execution_count": 53,
     "metadata": {},
     "output_type": "execute_result"
    }
   ],
   "source": [
    "churnData.isnull().sum().sort_values(ascending=False)"
   ]
  },
  {
   "cell_type": "code",
   "execution_count": 57,
   "id": "7367452f",
   "metadata": {},
   "outputs": [
    {
     "data": {
      "text/plain": [
       "gender              0\n",
       "SeniorCitizen       0\n",
       "Partner             0\n",
       "Dependents          0\n",
       "tenure              0\n",
       "PhoneService        0\n",
       "OnlineSecurity      0\n",
       "OnlineBackup        0\n",
       "DeviceProtection    0\n",
       "TechSupport         0\n",
       "StreamingTV         0\n",
       "StreamingMovies     0\n",
       "Contract            0\n",
       "MonthlyCharges      0\n",
       "TotalCharges        0\n",
       "Churn               0\n",
       "dtype: int64"
      ]
     },
     "execution_count": 57,
     "metadata": {},
     "output_type": "execute_result"
    }
   ],
   "source": [
    "\n",
    "churnData.isnull().sum()"
   ]
  },
  {
   "cell_type": "markdown",
   "id": "1d36e272",
   "metadata": {},
   "source": [
    "- Use the following features: `tenure`, `SeniorCitizen`, `MonthlyCharges` and `TotalCharges`:\n",
    "  - Scale the features either by using normalizer or a standard scaler.\n",
    "  - Split the data into a training set and a test set.\n",
    "  - Fit a logistic regression model on the training data.\n",
    "  - Check the accuracy on the test data.\n",
    "\n",
    "**Note**: So far we have not balanced the data."
   ]
  },
  {
   "cell_type": "code",
   "execution_count": 59,
   "id": "b6b20617",
   "metadata": {},
   "outputs": [
    {
     "data": {
      "text/plain": [
       "tenure              int64\n",
       "SeniorCitizen       int64\n",
       "MonthlyCharges    float64\n",
       "TotalCharges      float64\n",
       "dtype: object"
      ]
     },
     "execution_count": 59,
     "metadata": {},
     "output_type": "execute_result"
    }
   ],
   "source": [
    "features = ['tenure', 'SeniorCitizen', 'MonthlyCharges', 'TotalCharges']\n",
    "X = pd.DataFrame(data=churnData, columns=features)\n",
    "X.dtypes"
   ]
  },
  {
   "cell_type": "code",
   "execution_count": 60,
   "id": "4e53408a",
   "metadata": {},
   "outputs": [
    {
     "data": {
      "text/plain": [
       "0        No\n",
       "1        No\n",
       "2       Yes\n",
       "3        No\n",
       "4       Yes\n",
       "       ... \n",
       "7038     No\n",
       "7039     No\n",
       "7040     No\n",
       "7041    Yes\n",
       "7042     No\n",
       "Name: Churn, Length: 7043, dtype: object"
      ]
     },
     "execution_count": 60,
     "metadata": {},
     "output_type": "execute_result"
    }
   ],
   "source": [
    "y = churnData['Churn']\n",
    "y"
   ]
  },
  {
   "cell_type": "code",
   "execution_count": 61,
   "id": "6abdb31a",
   "metadata": {},
   "outputs": [
    {
     "data": {
      "text/html": [
       "<div>\n",
       "<style scoped>\n",
       "    .dataframe tbody tr th:only-of-type {\n",
       "        vertical-align: middle;\n",
       "    }\n",
       "\n",
       "    .dataframe tbody tr th {\n",
       "        vertical-align: top;\n",
       "    }\n",
       "\n",
       "    .dataframe thead th {\n",
       "        text-align: right;\n",
       "    }\n",
       "</style>\n",
       "<table border=\"1\" class=\"dataframe\">\n",
       "  <thead>\n",
       "    <tr style=\"text-align: right;\">\n",
       "      <th></th>\n",
       "      <th>Churn</th>\n",
       "    </tr>\n",
       "  </thead>\n",
       "  <tbody>\n",
       "    <tr>\n",
       "      <th>0</th>\n",
       "      <td>0</td>\n",
       "    </tr>\n",
       "    <tr>\n",
       "      <th>1</th>\n",
       "      <td>0</td>\n",
       "    </tr>\n",
       "    <tr>\n",
       "      <th>2</th>\n",
       "      <td>1</td>\n",
       "    </tr>\n",
       "    <tr>\n",
       "      <th>3</th>\n",
       "      <td>0</td>\n",
       "    </tr>\n",
       "    <tr>\n",
       "      <th>4</th>\n",
       "      <td>1</td>\n",
       "    </tr>\n",
       "    <tr>\n",
       "      <th>...</th>\n",
       "      <td>...</td>\n",
       "    </tr>\n",
       "    <tr>\n",
       "      <th>7038</th>\n",
       "      <td>0</td>\n",
       "    </tr>\n",
       "    <tr>\n",
       "      <th>7039</th>\n",
       "      <td>0</td>\n",
       "    </tr>\n",
       "    <tr>\n",
       "      <th>7040</th>\n",
       "      <td>0</td>\n",
       "    </tr>\n",
       "    <tr>\n",
       "      <th>7041</th>\n",
       "      <td>1</td>\n",
       "    </tr>\n",
       "    <tr>\n",
       "      <th>7042</th>\n",
       "      <td>0</td>\n",
       "    </tr>\n",
       "  </tbody>\n",
       "</table>\n",
       "<p>7043 rows × 1 columns</p>\n",
       "</div>"
      ],
      "text/plain": [
       "      Churn\n",
       "0         0\n",
       "1         0\n",
       "2         1\n",
       "3         0\n",
       "4         1\n",
       "...     ...\n",
       "7038      0\n",
       "7039      0\n",
       "7040      0\n",
       "7041      1\n",
       "7042      0\n",
       "\n",
       "[7043 rows x 1 columns]"
      ]
     },
     "execution_count": 61,
     "metadata": {},
     "output_type": "execute_result"
    }
   ],
   "source": [
    "#Encoding the target #0 is No Churn, 1 is Yes Churn\n",
    "\n",
    "y"
   ]
  },
  {
   "cell_type": "code",
   "execution_count": 63,
   "id": "5618e43e",
   "metadata": {},
   "outputs": [
    {
     "data": {
      "text/plain": [
       "array([[0.02368203, 0.        , 0.70690847, 0.70690847],\n",
       "       [0.0179831 , 0.        , 0.0301217 , 0.99938446],\n",
       "       [0.01655198, 0.        , 0.44566203, 0.89504826],\n",
       "       ...,\n",
       "       [0.03161954, 0.        , 0.08508531, 0.99587183],\n",
       "       [0.01267729, 0.00316932, 0.23579761, 0.97171433],\n",
       "       [0.00964118, 0.        , 0.0154332 , 0.99983442]])"
      ]
     },
     "execution_count": 63,
     "metadata": {},
     "output_type": "execute_result"
    }
   ],
   "source": [
    "#Scales using normalizerX_norm\n",
    "X_norm"
   ]
  },
  {
   "cell_type": "code",
   "execution_count": 64,
   "id": "04eb0be9",
   "metadata": {},
   "outputs": [
    {
     "data": {
      "text/plain": [
       "array([[-1.27744458, -0.43991649, -1.16032292, -0.99497138],\n",
       "       [ 0.06632742, -0.43991649, -0.25962894, -0.17387565],\n",
       "       [-1.23672422, -0.43991649, -0.36266036, -0.96039939],\n",
       "       ...,\n",
       "       [-0.87024095, -0.43991649, -1.1686319 , -0.85518222],\n",
       "       [-1.15528349,  2.27315869,  0.32033821, -0.87277729],\n",
       "       [ 1.36937906, -0.43991649,  1.35896134,  2.01391739]])"
      ]
     },
     "execution_count": 64,
     "metadata": {},
     "output_type": "execute_result"
    }
   ],
   "source": [
    "#Scaled using standard scaler\n",
    "X_scaled"
   ]
  },
  {
   "cell_type": "code",
   "execution_count": 65,
   "id": "ea24ca0c",
   "metadata": {},
   "outputs": [],
   "source": [
    "#Train, test split\n",
    "Xn_train, Xn_test, y_train, y_test = train_test_split(X_norm, y, test_size=0.2, random_state=42)\n",
    "Xs_train, Xs_test, y_train, y_test = train_test_split(X_scaled, y, test_size=0.2, random_state=42)"
   ]
  },
  {
   "cell_type": "code",
   "execution_count": 67,
   "id": "9562fa81",
   "metadata": {},
   "outputs": [
    {
     "data": {
      "image/png": "[encoded data removed]",
      "text/plain": [
       "<Figure size 200x200 with 2 Axes>"
      ]
     },
     "metadata": {},
     "output_type": "display_data"
    },
    {
     "data": {
      "image/png": "[encoded data removed]",
      "text/plain": [
       "<Figure size 200x200 with 2 Axes>"
      ]
     },
     "metadata": {},
     "output_type": "display_data"
    },
    {
     "data": {
      "text/plain": [
       "(LogisticRegression(random_state=0),\n",
       " 0.7594959176428825,\n",
       " array([[3895,  243],\n",
       "        [1112,  384]], dtype=int64),\n",
       " 0.7629524485450674,\n",
       " array([[960,  76],\n",
       "        [258, 115]], dtype=int64))"
      ]
     },
     "execution_count": 67,
     "metadata": {},
     "output_type": "execute_result"
    }
   ],
   "source": [
    "#Fit a logistic regression model\n",
    "#Using normalized X\n",
    "model_norm_train = logmodel(Xn_train,Xn_test,y_train, y_test)\n",
    "model_norm_train"
   ]
  },
  {
   "cell_type": "code",
   "execution_count": 68,
   "id": "3581d345",
   "metadata": {},
   "outputs": [
    {
     "data": {
      "image/png": "[encoded data removed]",
      "text/plain": [
       "<Figure size 200x200 with 2 Axes>"
      ]
     },
     "metadata": {},
     "output_type": "display_data"
    },
    {
     "data": {
      "image/png": "[encoded data removed]",
      "text/plain": [
       "<Figure size 200x200 with 2 Axes>"
      ]
     },
     "metadata": {},
     "output_type": "display_data"
    },
    {
     "data": {
      "text/plain": [
       "(LogisticRegression(random_state=0),\n",
       " 0.7875399361022364,\n",
       " array([[3774,  364],\n",
       "        [ 833,  663]], dtype=int64),\n",
       " 0.8076650106458482,\n",
       " array([[959,  77],\n",
       "        [194, 179]], dtype=int64))"
      ]
     },
     "execution_count": 68,
     "metadata": {},
     "output_type": "execute_result"
    }
   ],
   "source": [
    "#Using scaled X\n",
    "model_scaled = logmodel(Xs_train,Xs_test,y_train, y_test)\n",
    "model_scaled"
   ]
  },
  {
   "cell_type": "code",
   "execution_count": 69,
   "id": "921f5cb3",
   "metadata": {},
   "outputs": [],
   "source": [
    "# We will use the model with scaled data from here on because it has a better performance than the one with normalized data"
   ]
  },
  {
   "cell_type": "markdown",
   "id": "df26d760",
   "metadata": {},
   "source": [
    "Managing imbalance in the dataset\n",
    "\n",
    "- Check for the imbalance.\n",
    "- Use the resampling strategies used in class for upsampling and downsampling to create a balance between the two classes.\n",
    "- Each time fit the model and see how the accuracy of the model is."
   ]
  },
  {
   "cell_type": "code",
   "execution_count": 70,
   "id": "93f23dd7",
   "metadata": {},
   "outputs": [
    {
     "data": {
      "text/plain": [
       "0    73.463013\n",
       "1    26.536987\n",
       "Name: Churn, dtype: float64"
      ]
     },
     "execution_count": 70,
     "metadata": {},
     "output_type": "execute_result"
    }
   ],
   "source": [
    "y['Churn'].value_counts()/len(y['Churn'])*100\n",
    "# 73% of rows are clients that left the company and 26% are clients that stayed -> we have imbalance"
   ]
  },
  {
   "cell_type": "code",
   "execution_count": 108,
   "id": "1d7680c1",
   "metadata": {},
   "outputs": [],
   "source": [
    "X = df_scaled.drop(['Churn'], axis=1)\n",
    "y = df_scaled['Churn']\n",
    "X_train, X_test, y_train, y_test = train_test_split(X, y, test_size=0.33, random_state=42)"
   ]
  },
  {
   "cell_type": "code",
   "execution_count": 109,
   "id": "45aa36f3",
   "metadata": {},
   "outputs": [
    {
     "data": {
      "text/plain": [
       "0    0.736965\n",
       "1    0.263035\n",
       "Name: Churn, dtype: float64"
      ]
     },
     "execution_count": 109,
     "metadata": {},
     "output_type": "execute_result"
    }
   ],
   "source": [
    "y_train.value_counts()/len(y_train)"
   ]
  },
  {
   "cell_type": "code",
   "execution_count": 110,
   "id": "56174db8",
   "metadata": {},
   "outputs": [
    {
     "data": {
      "text/html": [
       "<div>\n",
       "<style scoped>\n",
       "    .dataframe tbody tr th:only-of-type {\n",
       "        vertical-align: middle;\n",
       "    }\n",
       "\n",
       "    .dataframe tbody tr th {\n",
       "        vertical-align: top;\n",
       "    }\n",
       "\n",
       "    .dataframe thead th {\n",
       "        text-align: right;\n",
       "    }\n",
       "</style>\n",
       "<table border=\"1\" class=\"dataframe\">\n",
       "  <thead>\n",
       "    <tr style=\"text-align: right;\">\n",
       "      <th></th>\n",
       "      <th>tenure</th>\n",
       "      <th>SeniorCitizen</th>\n",
       "      <th>MonthlyCharges</th>\n",
       "      <th>TotalCharges</th>\n",
       "      <th>Churn</th>\n",
       "    </tr>\n",
       "  </thead>\n",
       "  <tbody>\n",
       "    <tr>\n",
       "      <th>298</th>\n",
       "      <td>0.310650</td>\n",
       "      <td>-0.439916</td>\n",
       "      <td>0.325324</td>\n",
       "      <td>0.323400</td>\n",
       "      <td>0</td>\n",
       "    </tr>\n",
       "    <tr>\n",
       "      <th>3318</th>\n",
       "      <td>-0.910961</td>\n",
       "      <td>-0.439916</td>\n",
       "      <td>-1.171955</td>\n",
       "      <td>-0.895450</td>\n",
       "      <td>1</td>\n",
       "    </tr>\n",
       "    <tr>\n",
       "      <th>5586</th>\n",
       "      <td>-0.218715</td>\n",
       "      <td>-0.439916</td>\n",
       "      <td>-1.515947</td>\n",
       "      <td>-0.786789</td>\n",
       "      <td>0</td>\n",
       "    </tr>\n",
       "    <tr>\n",
       "      <th>6654</th>\n",
       "      <td>-1.033122</td>\n",
       "      <td>-0.439916</td>\n",
       "      <td>0.722493</td>\n",
       "      <td>-0.750959</td>\n",
       "      <td>1</td>\n",
       "    </tr>\n",
       "    <tr>\n",
       "      <th>5362</th>\n",
       "      <td>1.328659</td>\n",
       "      <td>-0.439916</td>\n",
       "      <td>-1.329826</td>\n",
       "      <td>-0.250879</td>\n",
       "      <td>0</td>\n",
       "    </tr>\n",
       "    <tr>\n",
       "      <th>...</th>\n",
       "      <td>...</td>\n",
       "      <td>...</td>\n",
       "      <td>...</td>\n",
       "      <td>...</td>\n",
       "      <td>...</td>\n",
       "    </tr>\n",
       "    <tr>\n",
       "      <th>3772</th>\n",
       "      <td>-1.277445</td>\n",
       "      <td>-0.439916</td>\n",
       "      <td>1.004999</td>\n",
       "      <td>-0.966206</td>\n",
       "      <td>1</td>\n",
       "    </tr>\n",
       "    <tr>\n",
       "      <th>5191</th>\n",
       "      <td>-0.381597</td>\n",
       "      <td>-0.439916</td>\n",
       "      <td>0.875378</td>\n",
       "      <td>-0.037530</td>\n",
       "      <td>0</td>\n",
       "    </tr>\n",
       "    <tr>\n",
       "      <th>5226</th>\n",
       "      <td>-0.829521</td>\n",
       "      <td>-0.439916</td>\n",
       "      <td>-1.449476</td>\n",
       "      <td>-0.873020</td>\n",
       "      <td>0</td>\n",
       "    </tr>\n",
       "    <tr>\n",
       "      <th>5390</th>\n",
       "      <td>-0.829521</td>\n",
       "      <td>2.273159</td>\n",
       "      <td>1.152899</td>\n",
       "      <td>-0.478246</td>\n",
       "      <td>1</td>\n",
       "    </tr>\n",
       "    <tr>\n",
       "      <th>860</th>\n",
       "      <td>-0.259435</td>\n",
       "      <td>-0.439916</td>\n",
       "      <td>-1.494344</td>\n",
       "      <td>-0.806238</td>\n",
       "      <td>0</td>\n",
       "    </tr>\n",
       "  </tbody>\n",
       "</table>\n",
       "<p>4718 rows × 5 columns</p>\n",
       "</div>"
      ],
      "text/plain": [
       "        tenure  SeniorCitizen  MonthlyCharges  TotalCharges  Churn\n",
       "298   0.310650      -0.439916        0.325324      0.323400      0\n",
       "3318 -0.910961      -0.439916       -1.171955     -0.895450      1\n",
       "5586 -0.218715      -0.439916       -1.515947     -0.786789      0\n",
       "6654 -1.033122      -0.439916        0.722493     -0.750959      1\n",
       "5362  1.328659      -0.439916       -1.329826     -0.250879      0\n",
       "...        ...            ...             ...           ...    ...\n",
       "3772 -1.277445      -0.439916        1.004999     -0.966206      1\n",
       "5191 -0.381597      -0.439916        0.875378     -0.037530      0\n",
       "5226 -0.829521      -0.439916       -1.449476     -0.873020      0\n",
       "5390 -0.829521       2.273159        1.152899     -0.478246      1\n",
       "860  -0.259435      -0.439916       -1.494344     -0.806238      0\n",
       "\n",
       "[4718 rows x 5 columns]"
      ]
     },
     "execution_count": 110,
     "metadata": {},
     "output_type": "execute_result"
    }
   ],
   "source": [
    "df_train = pd.concat([X_train,y_train], axis=1)\n",
    "df_train"
   ]
  },
  {
   "cell_type": "code",
   "execution_count": 111,
   "id": "5b3fa161",
   "metadata": {},
   "outputs": [
    {
     "name": "stdout",
     "output_type": "stream",
     "text": [
      "3477\n",
      "1241\n"
     ]
    }
   ],
   "source": [
    "\n",
    "print(len(category_0))\n",
    "print(len(category_1))"
   ]
  },
  {
   "cell_type": "code",
   "execution_count": 112,
   "id": "f51e9a11",
   "metadata": {},
   "outputs": [
    {
     "name": "stdout",
     "output_type": "stream",
     "text": [
      "1241\n",
      "1241\n"
     ]
    }
   ],
   "source": [
    "\n",
    "print(len(category_0))\n",
    "print(len(category_1))"
   ]
  },
  {
   "cell_type": "code",
   "execution_count": 113,
   "id": "5a76af73",
   "metadata": {},
   "outputs": [
    {
     "data": {
      "text/html": [
       "<div>\n",
       "<style scoped>\n",
       "    .dataframe tbody tr th:only-of-type {\n",
       "        vertical-align: middle;\n",
       "    }\n",
       "\n",
       "    .dataframe tbody tr th {\n",
       "        vertical-align: top;\n",
       "    }\n",
       "\n",
       "    .dataframe thead th {\n",
       "        text-align: right;\n",
       "    }\n",
       "</style>\n",
       "<table border=\"1\" class=\"dataframe\">\n",
       "  <thead>\n",
       "    <tr style=\"text-align: right;\">\n",
       "      <th></th>\n",
       "      <th>tenure</th>\n",
       "      <th>SeniorCitizen</th>\n",
       "      <th>MonthlyCharges</th>\n",
       "      <th>TotalCharges</th>\n",
       "      <th>Churn</th>\n",
       "    </tr>\n",
       "  </thead>\n",
       "  <tbody>\n",
       "    <tr>\n",
       "      <th>2694</th>\n",
       "      <td>-0.992402</td>\n",
       "      <td>-0.439916</td>\n",
       "      <td>-1.499330</td>\n",
       "      <td>-0.933201</td>\n",
       "      <td>0</td>\n",
       "    </tr>\n",
       "    <tr>\n",
       "      <th>6442</th>\n",
       "      <td>1.410099</td>\n",
       "      <td>-0.439916</td>\n",
       "      <td>-0.472339</td>\n",
       "      <td>0.507078</td>\n",
       "      <td>0</td>\n",
       "    </tr>\n",
       "    <tr>\n",
       "      <th>1290</th>\n",
       "      <td>1.613701</td>\n",
       "      <td>2.273159</td>\n",
       "      <td>0.654359</td>\n",
       "      <td>1.596824</td>\n",
       "      <td>0</td>\n",
       "    </tr>\n",
       "    <tr>\n",
       "      <th>4429</th>\n",
       "      <td>1.532261</td>\n",
       "      <td>-0.439916</td>\n",
       "      <td>0.496489</td>\n",
       "      <td>1.527702</td>\n",
       "      <td>0</td>\n",
       "    </tr>\n",
       "    <tr>\n",
       "      <th>1877</th>\n",
       "      <td>1.613701</td>\n",
       "      <td>-0.439916</td>\n",
       "      <td>0.790627</td>\n",
       "      <td>1.801033</td>\n",
       "      <td>0</td>\n",
       "    </tr>\n",
       "    <tr>\n",
       "      <th>...</th>\n",
       "      <td>...</td>\n",
       "      <td>...</td>\n",
       "      <td>...</td>\n",
       "      <td>...</td>\n",
       "      <td>...</td>\n",
       "    </tr>\n",
       "    <tr>\n",
       "      <th>6231</th>\n",
       "      <td>-1.277445</td>\n",
       "      <td>2.273159</td>\n",
       "      <td>0.386810</td>\n",
       "      <td>-0.974418</td>\n",
       "      <td>1</td>\n",
       "    </tr>\n",
       "    <tr>\n",
       "      <th>5334</th>\n",
       "      <td>0.677133</td>\n",
       "      <td>-0.439916</td>\n",
       "      <td>1.435404</td>\n",
       "      <td>1.328968</td>\n",
       "      <td>1</td>\n",
       "    </tr>\n",
       "    <tr>\n",
       "      <th>3092</th>\n",
       "      <td>-1.277445</td>\n",
       "      <td>-0.439916</td>\n",
       "      <td>-1.318194</td>\n",
       "      <td>-0.997069</td>\n",
       "      <td>1</td>\n",
       "    </tr>\n",
       "    <tr>\n",
       "      <th>3772</th>\n",
       "      <td>-1.277445</td>\n",
       "      <td>-0.439916</td>\n",
       "      <td>1.004999</td>\n",
       "      <td>-0.966206</td>\n",
       "      <td>1</td>\n",
       "    </tr>\n",
       "    <tr>\n",
       "      <th>5390</th>\n",
       "      <td>-0.829521</td>\n",
       "      <td>2.273159</td>\n",
       "      <td>1.152899</td>\n",
       "      <td>-0.478246</td>\n",
       "      <td>1</td>\n",
       "    </tr>\n",
       "  </tbody>\n",
       "</table>\n",
       "<p>2482 rows × 5 columns</p>\n",
       "</div>"
      ],
      "text/plain": [
       "        tenure  SeniorCitizen  MonthlyCharges  TotalCharges  Churn\n",
       "2694 -0.992402      -0.439916       -1.499330     -0.933201      0\n",
       "6442  1.410099      -0.439916       -0.472339      0.507078      0\n",
       "1290  1.613701       2.273159        0.654359      1.596824      0\n",
       "4429  1.532261      -0.439916        0.496489      1.527702      0\n",
       "1877  1.613701      -0.439916        0.790627      1.801033      0\n",
       "...        ...            ...             ...           ...    ...\n",
       "6231 -1.277445       2.273159        0.386810     -0.974418      1\n",
       "5334  0.677133      -0.439916        1.435404      1.328968      1\n",
       "3092 -1.277445      -0.439916       -1.318194     -0.997069      1\n",
       "3772 -1.277445      -0.439916        1.004999     -0.966206      1\n",
       "5390 -0.829521       2.273159        1.152899     -0.478246      1\n",
       "\n",
       "[2482 rows x 5 columns]"
      ]
     },
     "execution_count": 113,
     "metadata": {},
     "output_type": "execute_result"
    }
   ],
   "source": [
    "df_down"
   ]
  },
  {
   "cell_type": "code",
   "execution_count": 115,
   "id": "ac3d3124",
   "metadata": {},
   "outputs": [
    {
     "data": {
      "image/png": "[encoded data removed]",
      "text/plain": [
       "<Figure size 200x200 with 2 Axes>"
      ]
     },
     "metadata": {},
     "output_type": "display_data"
    },
    {
     "data": {
      "image/png": "[encoded data removed]",
      "text/plain": [
       "<Figure size 200x200 with 2 Axes>"
      ]
     },
     "metadata": {},
     "output_type": "display_data"
    },
    {
     "data": {
      "text/plain": [
       "(LogisticRegression(random_state=0),\n",
       " 0.7211925866236906,\n",
       " array([[890, 351],\n",
       "        [341, 900]], dtype=int64),\n",
       " 0.7367741935483871,\n",
       " array([[1231,  466],\n",
       "        [ 146,  482]], dtype=int64))"
      ]
     },
     "execution_count": 115,
     "metadata": {},
     "output_type": "execute_result"
    }
   ],
   "source": [
    "model_down = logmodel(X_down_train,X_test,y_down_train, y_test)\n",
    "model_down"
   ]
  },
  {
   "cell_type": "code",
   "execution_count": 117,
   "id": "a8eddb0e",
   "metadata": {
    "scrolled": true
   },
   "outputs": [
    {
     "name": "stdout",
     "output_type": "stream",
     "text": [
      "3477\n",
      "1241\n",
      "3477\n",
      "3477\n"
     ]
    }
   ],
   "source": [
    "#Upsampling\n",
    "category_0=df_train[df_train['Churn']==0]\n",
    "category_1=df_train[df_train['Churn']==1]\n",
    "print(len(category_0))\n",
    "print(len(category_1))\n",
    "category_1=category_1.sample(len(category_0),replace=True)\n",
    "print(len(category_0))\n",
    "print(len(category_1))"
   ]
  },
  {
   "cell_type": "code",
   "execution_count": 118,
   "id": "e04002eb",
   "metadata": {},
   "outputs": [
    {
     "data": {
      "text/html": [
       "<div>\n",
       "<style scoped>\n",
       "    .dataframe tbody tr th:only-of-type {\n",
       "        vertical-align: middle;\n",
       "    }\n",
       "\n",
       "    .dataframe tbody tr th {\n",
       "        vertical-align: top;\n",
       "    }\n",
       "\n",
       "    .dataframe thead th {\n",
       "        text-align: right;\n",
       "    }\n",
       "</style>\n",
       "<table border=\"1\" class=\"dataframe\">\n",
       "  <thead>\n",
       "    <tr style=\"text-align: right;\">\n",
       "      <th></th>\n",
       "      <th>tenure</th>\n",
       "      <th>SeniorCitizen</th>\n",
       "      <th>MonthlyCharges</th>\n",
       "      <th>TotalCharges</th>\n",
       "      <th>Churn</th>\n",
       "    </tr>\n",
       "  </thead>\n",
       "  <tbody>\n",
       "    <tr>\n",
       "      <th>298</th>\n",
       "      <td>0.310650</td>\n",
       "      <td>-0.439916</td>\n",
       "      <td>0.325324</td>\n",
       "      <td>0.323400</td>\n",
       "      <td>0</td>\n",
       "    </tr>\n",
       "    <tr>\n",
       "      <th>5586</th>\n",
       "      <td>-0.218715</td>\n",
       "      <td>-0.439916</td>\n",
       "      <td>-1.515947</td>\n",
       "      <td>-0.786789</td>\n",
       "      <td>0</td>\n",
       "    </tr>\n",
       "    <tr>\n",
       "      <th>5362</th>\n",
       "      <td>1.328659</td>\n",
       "      <td>-0.439916</td>\n",
       "      <td>-1.329826</td>\n",
       "      <td>-0.250879</td>\n",
       "      <td>0</td>\n",
       "    </tr>\n",
       "    <tr>\n",
       "      <th>2840</th>\n",
       "      <td>-0.381597</td>\n",
       "      <td>-0.439916</td>\n",
       "      <td>0.652698</td>\n",
       "      <td>-0.152969</td>\n",
       "      <td>0</td>\n",
       "    </tr>\n",
       "    <tr>\n",
       "      <th>229</th>\n",
       "      <td>0.595692</td>\n",
       "      <td>-0.439916</td>\n",
       "      <td>0.682610</td>\n",
       "      <td>0.805333</td>\n",
       "      <td>0</td>\n",
       "    </tr>\n",
       "    <tr>\n",
       "      <th>...</th>\n",
       "      <td>...</td>\n",
       "      <td>...</td>\n",
       "      <td>...</td>\n",
       "      <td>...</td>\n",
       "      <td>...</td>\n",
       "    </tr>\n",
       "    <tr>\n",
       "      <th>4480</th>\n",
       "      <td>-1.277445</td>\n",
       "      <td>-0.439916</td>\n",
       "      <td>0.154159</td>\n",
       "      <td>-0.977509</td>\n",
       "      <td>1</td>\n",
       "    </tr>\n",
       "    <tr>\n",
       "      <th>2861</th>\n",
       "      <td>-1.277445</td>\n",
       "      <td>-0.439916</td>\n",
       "      <td>0.571270</td>\n",
       "      <td>-0.971968</td>\n",
       "      <td>1</td>\n",
       "    </tr>\n",
       "    <tr>\n",
       "      <th>1790</th>\n",
       "      <td>-0.829521</td>\n",
       "      <td>-0.439916</td>\n",
       "      <td>0.443311</td>\n",
       "      <td>-0.589887</td>\n",
       "      <td>1</td>\n",
       "    </tr>\n",
       "    <tr>\n",
       "      <th>306</th>\n",
       "      <td>-0.015113</td>\n",
       "      <td>2.273159</td>\n",
       "      <td>0.336956</td>\n",
       "      <td>0.008853</td>\n",
       "      <td>1</td>\n",
       "    </tr>\n",
       "    <tr>\n",
       "      <th>2019</th>\n",
       "      <td>1.410099</td>\n",
       "      <td>-0.439916</td>\n",
       "      <td>1.307446</td>\n",
       "      <td>2.100612</td>\n",
       "      <td>1</td>\n",
       "    </tr>\n",
       "  </tbody>\n",
       "</table>\n",
       "<p>6954 rows × 5 columns</p>\n",
       "</div>"
      ],
      "text/plain": [
       "        tenure  SeniorCitizen  MonthlyCharges  TotalCharges  Churn\n",
       "298   0.310650      -0.439916        0.325324      0.323400      0\n",
       "5586 -0.218715      -0.439916       -1.515947     -0.786789      0\n",
       "5362  1.328659      -0.439916       -1.329826     -0.250879      0\n",
       "2840 -0.381597      -0.439916        0.652698     -0.152969      0\n",
       "229   0.595692      -0.439916        0.682610      0.805333      0\n",
       "...        ...            ...             ...           ...    ...\n",
       "4480 -1.277445      -0.439916        0.154159     -0.977509      1\n",
       "2861 -1.277445      -0.439916        0.571270     -0.971968      1\n",
       "1790 -0.829521      -0.439916        0.443311     -0.589887      1\n",
       "306  -0.015113       2.273159        0.336956      0.008853      1\n",
       "2019  1.410099      -0.439916        1.307446      2.100612      1\n",
       "\n",
       "[6954 rows x 5 columns]"
      ]
     },
     "execution_count": 118,
     "metadata": {},
     "output_type": "execute_result"
    }
   ],
   "source": [
    "df_up"
   ]
  },
  {
   "cell_type": "code",
   "execution_count": 120,
   "id": "6b974f6b",
   "metadata": {},
   "outputs": [
    {
     "data": {
      "image/png": "[encoded data removed]",
      "text/plain": [
       "<Figure size 200x200 with 2 Axes>"
      ]
     },
     "metadata": {},
     "output_type": "display_data"
    },
    {
     "data": {
      "image/png": "[encoded data removed]",
      "text/plain": [
       "<Figure size 200x200 with 2 Axes>"
      ]
     },
     "metadata": {},
     "output_type": "display_data"
    },
    {
     "data": {
      "text/plain": [
       "(LogisticRegression(random_state=0),\n",
       " 0.729076790336497,\n",
       " array([[2511,  966],\n",
       "        [ 918, 2559]], dtype=int64),\n",
       " 0.7389247311827957,\n",
       " array([[1234,  463],\n",
       "        [ 144,  484]], dtype=int64))"
      ]
     },
     "execution_count": 120,
     "metadata": {},
     "output_type": "execute_result"
    }
   ],
   "source": [
    "model_up = logmodel(X_up_train,X_test,y_up_train,y_test)\n",
    "model_up"
   ]
  },
  {
   "cell_type": "code",
   "execution_count": 122,
   "id": "b33c1b19",
   "metadata": {},
   "outputs": [
    {
     "data": {
      "image/png": "[encoded data removed]",
      "text/plain": [
       "<Figure size 200x200 with 2 Axes>"
      ]
     },
     "metadata": {},
     "output_type": "display_data"
    },
    {
     "data": {
      "image/png": "[encoded data removed]",
      "text/plain": [
       "<Figure size 200x200 with 2 Axes>"
      ]
     },
     "metadata": {},
     "output_type": "display_data"
    }
   ],
   "source": [
    "model_scaled =logmodel(X_train, X_test, y_train, y_test) #test size 0.33"
   ]
  },
  {
   "cell_type": "code",
   "execution_count": 123,
   "id": "487e61d1",
   "metadata": {},
   "outputs": [
    {
     "data": {
      "text/plain": [
       "((LogisticRegression(random_state=0),\n",
       "  0.7884696905468419,\n",
       "  array([[3180,  297],\n",
       "         [ 701,  540]], dtype=int64),\n",
       "  0.7978494623655914,\n",
       "  array([[1566,  131],\n",
       "         [ 339,  289]], dtype=int64)),\n",
       " (LogisticRegression(random_state=0),\n",
       "  0.7211925866236906,\n",
       "  array([[890, 351],\n",
       "         [341, 900]], dtype=int64),\n",
       "  0.7367741935483871,\n",
       "  array([[1231,  466],\n",
       "         [ 146,  482]], dtype=int64)),\n",
       " (LogisticRegression(random_state=0),\n",
       "  0.729076790336497,\n",
       "  array([[2511,  966],\n",
       "         [ 918, 2559]], dtype=int64),\n",
       "  0.7389247311827957,\n",
       "  array([[1234,  463],\n",
       "         [ 144,  484]], dtype=int64)))"
      ]
     },
     "execution_count": 123,
     "metadata": {},
     "output_type": "execute_result"
    }
   ],
   "source": [
    "model_scaled, model_down, model_up #with test size 0.33"
   ]
  },
  {
   "cell_type": "raw",
   "id": "246a33e5",
   "metadata": {},
   "source": [
    "#with test size 0.2\n",
    "((LogisticRegression(random_state=0),\n",
    "  0.7875399361022364,\n",
    "  array([[3774,  364],\n",
    "         [ 833,  663]], dtype=int64),\n",
    "  0.8076650106458482,\n",
    "  array([[959,  77],\n",
    "         [194, 179]], dtype=int64)),\n",
    " (LogisticRegression(random_state=0),\n",
    "  0.7299465240641712,\n",
    "  array([[1077,  419],\n",
    "         [ 389, 1107]], dtype=int64),\n",
    "  0.7430801987224982,\n",
    "  array([[759, 277],\n",
    "         [ 85, 288]], dtype=int64)),\n",
    " (LogisticRegression(random_state=0),\n",
    "  0.7303044949250845,\n",
    "  array([[2993, 1145],\n",
    "         [1087, 3051]], dtype=int64),\n",
    "  0.7416607523066004,\n",
    "  array([[761, 275],\n",
    "         [ 89, 284]], dtype=int64)))"
   ]
  }
 ],
 "metadata": {
  "kernelspec": {
   "display_name": "example",
   "language": "python",
   "name": "example"
  },
  "language_info": {
   "codemirror_mode": {
    "name": "ipython",
    "version": 3
   },
   "file_extension": ".py",
   "mimetype": "text/x-python",
   "name": "python",
   "nbconvert_exporter": "python",
   "pygments_lexer": "ipython3",
   "version": "3.9.13"
  }
 },
 "nbformat": 4,
 "nbformat_minor": 5
}
